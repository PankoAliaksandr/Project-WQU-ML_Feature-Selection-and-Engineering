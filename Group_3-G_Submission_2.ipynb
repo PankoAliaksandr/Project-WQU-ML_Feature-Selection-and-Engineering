{
 "cells": [
  {
   "cell_type": "markdown",
   "metadata": {},
   "source": [
    "# WQ_ML_GROUP_3 - G\n",
    "\n",
    "## Submission 2: Feature Selection and Engineering\n",
    "\n",
    "Group Member:\n",
    "\n",
    "1. Ugochukwu Nnalue\n",
    "2. Aliaksandr Panko\n",
    "3. Ntui Gideon Ateke\n",
    "4. Oliseamaka Olise\n",
    "5. Olawale Dosunmu\n",
    "\n",
    "### Tasks:\n",
    "\n",
    "1 Select at least four explanatory variables and perform the necessary transformations so that they are useful in the model phase. You are encouraged to use more than four variables. Investigate feature engineering techniques such as PCA and encoding target variables using one-hot encoding.\n",
    "\n",
    "2 Write a short paragraph about each technique investigated and show an implementation of it in a Jupyter Notebook. Make sure to include references that indicate where the ideas were sourced.\n",
    "\n",
    "3 At this stage groups should take the opportunity to familiarize themselves with the cross-validation techniques for forecasting financial time series – for example, traditional k-fold cross-validation versus walk forward analysis, and Purged K-Fold CV. Write a short paragraph explaining each technique researched. Research at least three (they don’t have to be the 3 mentioned here)."
   ]
  },
  {
   "cell_type": "markdown",
   "metadata": {},
   "source": [
    "## 1. Explanatory variables selection and transformations "
   ]
  },
  {
   "cell_type": "markdown",
   "metadata": {},
   "source": [
    "In this section we need to execute the next steps:\n",
    "1. Download data\n",
    "2. Select the first factor - Volume\n",
    "3. Select the second factor - Price Moving Average Convergence Divergence - MACD 12 days\n",
    "4. Select the third factor - Price Moving Average Convergence Divergence - MACD 26 days\n",
    "5. Select the fourth factor - Market index (Nasdaq Composite) value\n",
    "\n",
    "The idea of Moving Average Convergence Divergence (MACD) is described [[here]](https://www.investopedia.com/terms/m/macd.asp) "
   ]
  },
  {
   "cell_type": "markdown",
   "metadata": {},
   "source": [
    "### 1.1 Data Download"
   ]
  },
  {
   "cell_type": "markdown",
   "metadata": {},
   "source": [
    "For this submission we chose Google stock data for last 10 years."
   ]
  },
  {
   "cell_type": "code",
   "execution_count": 1,
   "metadata": {
    "scrolled": true
   },
   "outputs": [],
   "source": [
    "# Import libraries\n",
    "import pandas as pd\n",
    "from pandas_datareader import data as pdr\n",
    "import datetime\n",
    "from sklearn.decomposition import PCA\n",
    "from matplotlib import pylab as plt\n",
    "import numpy as np\n",
    "from sklearn.preprocessing import OneHotEncoder\n",
    "from sklearn.preprocessing import LabelEncoder\n",
    "import warnings\n",
    "warnings.filterwarnings('ignore')"
   ]
  },
  {
   "cell_type": "code",
   "execution_count": 2,
   "metadata": {},
   "outputs": [],
   "source": [
    "# Download Google stock daily data \n",
    "def download_hist_data(ticker, num_of_years):\n",
    "    # Determine the first and the last days of the period\n",
    "    end_date = datetime.date.today()\n",
    "    start_date = datetime.date(end_date.year - num_of_years,\n",
    "                               end_date.month, end_date.day)\n",
    "\n",
    "    # Download data from Yahoo Finance\n",
    "    try:\n",
    "        return pdr.get_data_yahoo(ticker,\n",
    "                                  start=start_date,\n",
    "                                  end=end_date)\n",
    "    except RemoteDataError:\n",
    "        # handle error\n",
    "        print ('Stock symbol \"{}\" is not valid'.format(ticker))\n",
    "        return 1\n",
    "       \n",
    "google_symbol = 'GOOGL'\n",
    "num_of_years = 10\n",
    "stock_data = download_hist_data(google_symbol, num_of_years)"
   ]
  },
  {
   "cell_type": "markdown",
   "metadata": {},
   "source": [
    "### 1.2 Daily volume "
   ]
  },
  {
   "cell_type": "code",
   "execution_count": 3,
   "metadata": {},
   "outputs": [
    {
     "data": {
      "image/png": "[encoded data removed]",
      "text/plain": [
       "<Figure size 432x288 with 1 Axes>"
      ]
     },
     "metadata": {
      "needs_background": "light"
     },
     "output_type": "display_data"
    }
   ],
   "source": [
    "volume = stock_data ['Volume']\n",
    "volume = volume[1:]\n",
    "plt.plot(volume)\n",
    "plt.title('Google stock daily volume')\n",
    "plt.show()"
   ]
  },
  {
   "cell_type": "markdown",
   "metadata": {},
   "source": [
    "### 1.3 MACD 12 days"
   ]
  },
  {
   "cell_type": "code",
   "execution_count": 4,
   "metadata": {
    "scrolled": true
   },
   "outputs": [],
   "source": [
    "number_of_days = 12\n",
    "macd_12 = stock_data['Adj Close'].rolling(window=number_of_days).mean()"
   ]
  },
  {
   "cell_type": "markdown",
   "metadata": {},
   "source": [
    "### 1.4 MACD 26 days"
   ]
  },
  {
   "cell_type": "code",
   "execution_count": 5,
   "metadata": {},
   "outputs": [],
   "source": [
    "number_of_days = 26\n",
    "macd_26 = stock_data['Adj Close'].rolling(window=number_of_days).mean()"
   ]
  },
  {
   "cell_type": "markdown",
   "metadata": {},
   "source": [
    "### 1.5 Nasdaq Composite"
   ]
  },
  {
   "cell_type": "code",
   "execution_count": 6,
   "metadata": {},
   "outputs": [],
   "source": [
    "nasdaq_symbol = '^IXIC'\n",
    "nasdaq_data = download_hist_data(nasdaq_symbol, num_of_years)\\"
   ]
  },
  {
   "cell_type": "code",
   "execution_count": 7,
   "metadata": {},
   "outputs": [
    {
     "data": {
      "text/html": [
       "<div>\n",
       "<style>\n",
       "    .dataframe thead tr:only-child th {\n",
       "        text-align: right;\n",
       "    }\n",
       "\n",
       "    .dataframe thead th {\n",
       "        text-align: left;\n",
       "    }\n",
       "\n",
       "    .dataframe tbody tr th {\n",
       "        vertical-align: top;\n",
       "    }\n",
       "</style>\n",
       "<table border=\"1\" class=\"dataframe\">\n",
       "  <thead>\n",
       "    <tr style=\"text-align: right;\">\n",
       "      <th></th>\n",
       "      <th>Volume</th>\n",
       "      <th>MACD_12</th>\n",
       "      <th>MACD_26</th>\n",
       "      <th>Nasdaq</th>\n",
       "    </tr>\n",
       "    <tr>\n",
       "      <th>Date</th>\n",
       "      <th></th>\n",
       "      <th></th>\n",
       "      <th></th>\n",
       "      <th></th>\n",
       "    </tr>\n",
       "  </thead>\n",
       "  <tbody>\n",
       "    <tr>\n",
       "      <th>2008-12-12</th>\n",
       "      <td>11432700</td>\n",
       "      <td>145.845428</td>\n",
       "      <td>147.102678</td>\n",
       "      <td>1540.719971</td>\n",
       "    </tr>\n",
       "    <tr>\n",
       "      <th>2008-12-15</th>\n",
       "      <td>13462300</td>\n",
       "      <td>146.620370</td>\n",
       "      <td>146.707091</td>\n",
       "      <td>1508.339966</td>\n",
       "    </tr>\n",
       "    <tr>\n",
       "      <th>2008-12-16</th>\n",
       "      <td>14105000</td>\n",
       "      <td>147.968384</td>\n",
       "      <td>146.594285</td>\n",
       "      <td>1589.890015</td>\n",
       "    </tr>\n",
       "    <tr>\n",
       "      <th>2008-12-17</th>\n",
       "      <td>11567800</td>\n",
       "      <td>150.022521</td>\n",
       "      <td>146.526140</td>\n",
       "      <td>1579.310059</td>\n",
       "    </tr>\n",
       "    <tr>\n",
       "      <th>2008-12-18</th>\n",
       "      <td>9517400</td>\n",
       "      <td>151.489404</td>\n",
       "      <td>146.503425</td>\n",
       "      <td>1552.369995</td>\n",
       "    </tr>\n",
       "  </tbody>\n",
       "</table>\n",
       "</div>"
      ],
      "text/plain": [
       "              Volume     MACD_12     MACD_26       Nasdaq\n",
       "Date                                                     \n",
       "2008-12-12  11432700  145.845428  147.102678  1540.719971\n",
       "2008-12-15  13462300  146.620370  146.707091  1508.339966\n",
       "2008-12-16  14105000  147.968384  146.594285  1589.890015\n",
       "2008-12-17  11567800  150.022521  146.526140  1579.310059\n",
       "2008-12-18   9517400  151.489404  146.503425  1552.369995"
      ]
     },
     "execution_count": 7,
     "metadata": {},
     "output_type": "execute_result"
    }
   ],
   "source": [
    "# Final Factors Data Frame\n",
    "factors = pd.DataFrame()\n",
    "factors['Volume'] = volume\n",
    "factors['MACD_12'] = macd_12\n",
    "factors['MACD_26'] = macd_26\n",
    "factors['Nasdaq'] = nasdaq_data[\"Adj Close\"]\n",
    "factors.dropna(inplace = True)\n",
    "factors.head()"
   ]
  },
  {
   "cell_type": "markdown",
   "metadata": {},
   "source": [
    "## 2. PCA and one-hot encoding"
   ]
  },
  {
   "cell_type": "markdown",
   "metadata": {},
   "source": [
    "**Principal component analysis (PCA)** is an unsupervised learning technique used in dimensionality reduction. It is a statistical procedure that uses an orthogonal transformation to convert a set of observations of possibly correlated variables (entities each of which takes on various numerical values) into a set of values of linearly uncorrelated variables called principal components. If there are n observations with p variables, then the number of distinct principal components is min(n-1,p). This transformation is defined in such a way that the first principal component has the largest possible variance (that is, accounts for as much of the variability in the data as possible), and each succeeding component in turn has the highest variance possible under the constraint that it is orthogonal to the preceding components. The resulting vectors (each being a linear combination of the variables and containing n observations) are an uncorrelated orthogonal basis set. PCA is sensitive to the relative scaling of the original variables. [[wikipedia]](https://en.wikipedia.org/wiki/Principal_component_analysis)"
   ]
  },
  {
   "cell_type": "markdown",
   "metadata": {},
   "source": [
    "To Apply PCA we need to normalized factors first. Initially, we tried to use 3 principal components, but the results showed us that the third is not required, since it does not give us additional information. So, to reduce dimension we used only 2 principal components."
   ]
  },
  {
   "cell_type": "code",
   "execution_count": 8,
   "metadata": {
    "scrolled": true
   },
   "outputs": [
    {
     "data": {
      "text/html": [
       "<div>\n",
       "<style>\n",
       "    .dataframe thead tr:only-child th {\n",
       "        text-align: right;\n",
       "    }\n",
       "\n",
       "    .dataframe thead th {\n",
       "        text-align: left;\n",
       "    }\n",
       "\n",
       "    .dataframe tbody tr th {\n",
       "        vertical-align: top;\n",
       "    }\n",
       "</style>\n",
       "<table border=\"1\" class=\"dataframe\">\n",
       "  <thead>\n",
       "    <tr style=\"text-align: right;\">\n",
       "      <th></th>\n",
       "      <th>Volume</th>\n",
       "      <th>MACD_12</th>\n",
       "      <th>MACD_26</th>\n",
       "      <th>Nasdaq</th>\n",
       "    </tr>\n",
       "    <tr>\n",
       "      <th>Date</th>\n",
       "      <th></th>\n",
       "      <th></th>\n",
       "      <th></th>\n",
       "      <th></th>\n",
       "    </tr>\n",
       "  </thead>\n",
       "  <tbody>\n",
       "    <tr>\n",
       "      <th>2008-12-12</th>\n",
       "      <td>2.455773</td>\n",
       "      <td>-1.361783</td>\n",
       "      <td>-1.352883</td>\n",
       "      <td>-1.490422</td>\n",
       "    </tr>\n",
       "    <tr>\n",
       "      <th>2008-12-15</th>\n",
       "      <td>3.125328</td>\n",
       "      <td>-1.359129</td>\n",
       "      <td>-1.354242</td>\n",
       "      <td>-1.509436</td>\n",
       "    </tr>\n",
       "    <tr>\n",
       "      <th>2008-12-16</th>\n",
       "      <td>3.337352</td>\n",
       "      <td>-1.354513</td>\n",
       "      <td>-1.354630</td>\n",
       "      <td>-1.461549</td>\n",
       "    </tr>\n",
       "    <tr>\n",
       "      <th>2008-12-17</th>\n",
       "      <td>2.500341</td>\n",
       "      <td>-1.347478</td>\n",
       "      <td>-1.354864</td>\n",
       "      <td>-1.467762</td>\n",
       "    </tr>\n",
       "    <tr>\n",
       "      <th>2008-12-18</th>\n",
       "      <td>1.823924</td>\n",
       "      <td>-1.342454</td>\n",
       "      <td>-1.354942</td>\n",
       "      <td>-1.483581</td>\n",
       "    </tr>\n",
       "  </tbody>\n",
       "</table>\n",
       "</div>"
      ],
      "text/plain": [
       "              Volume   MACD_12   MACD_26    Nasdaq\n",
       "Date                                              \n",
       "2008-12-12  2.455773 -1.361783 -1.352883 -1.490422\n",
       "2008-12-15  3.125328 -1.359129 -1.354242 -1.509436\n",
       "2008-12-16  3.337352 -1.354513 -1.354630 -1.461549\n",
       "2008-12-17  2.500341 -1.347478 -1.354864 -1.467762\n",
       "2008-12-18  1.823924 -1.342454 -1.354942 -1.483581"
      ]
     },
     "execution_count": 8,
     "metadata": {},
     "output_type": "execute_result"
    }
   ],
   "source": [
    "factors_normalized=(factors-factors.mean())/factors.std()\n",
    "factors_normalized.head()"
   ]
  },
  {
   "cell_type": "code",
   "execution_count": 9,
   "metadata": {},
   "outputs": [
    {
     "name": "stdout",
     "output_type": "stream",
     "text": [
      "[0.85675253 0.13741261]\n"
     ]
    },
    {
     "data": {
      "image/png": "[encoded data removed]",
      "text/plain": [
       "<Figure size 432x288 with 1 Axes>"
      ]
     },
     "metadata": {
      "needs_background": "light"
     },
     "output_type": "display_data"
    }
   ],
   "source": [
    "# PCA with 2 principal components\n",
    "pca = PCA(n_components=2)\n",
    "principal_components = pca.fit_transform(factors_normalized)\n",
    "print(pca.explained_variance_ratio_)\n",
    "\n",
    "# Plot\n",
    "plt.plot(range(0, 2), pca.explained_variance_ratio_)\n",
    "plt.ylabel('Explained Variance')\n",
    "plt.xlabel('Principal Components')\n",
    "plt.title('Explained Variance Ratio')\n",
    "plt.show()"
   ]
  },
  {
   "cell_type": "markdown",
   "metadata": {},
   "source": [
    "In our case 85.7% of variance is explained by the first principal component, 13.7% of variance is explained by the second principal component. The chart shows variance explained by every principal component. In total, more than 99% of variance is explained by 2 principal components."
   ]
  },
  {
   "cell_type": "markdown",
   "metadata": {},
   "source": [
    "**One-hot encoding** is a process by which categorical variables are converted into a form that could be provided to ML algorithms to do a better job in prediction. \n",
    "\n",
    "Categorical data are variables that contain label values rather than numeric values. The number of possible values is often limited to a fixed set.\n",
    "\n",
    "Some examples include:\n",
    "\n",
    "- A “pet” variable with the values: “dog” and “cat“.\n",
    "- A “colour” variable with the values: “red“, “green” and “blue“.\n",
    "- A “place” variable with the values: “first”, “second” and “third“.\n",
    "\n",
    "Some algorithms can work with categorical data directly. For example, a decision tree can be learned directly from categorical data with no data transform required (this depends on the specific implementation).\n",
    "\n",
    "Many machine learning algorithms cannot operate on label data directly. They require all input variables and output variables to be numeric. In general, this is mostly a constraint of the efficient implementation of machine learning algorithms rather than hard limitations on the algorithms themselves.\n",
    "\n",
    "This means that categorical data must be converted to a numerical form. One of the ways to do it is **one-hot encoding**.\n",
    "\n",
    "One-hot encoding can be applied to the integer representation. This is where the integer encoded variable is removed and a new binary variable is added for each unique integer value. [[data source]](https://machinelearningmastery.com/why-one-hot-encode-data-in-machine-learning/)\n",
    "\n",
    "In the “colour” variable example, there are 3 categories and therefore 3 binary variables are needed. A “1” value is placed in the binary variable for the colour and “0” values for the other colours. \n",
    "\n",
    "For example:\n",
    "\n",
    "Red: (1, 0, 0)\n",
    "\n",
    "Green: (0, 1, 0)\n",
    "\n",
    "Blue: (0, 0, 1)  "
   ]
  },
  {
   "cell_type": "markdown",
   "metadata": {},
   "source": [
    "Since all our factors are numerical we introduced new categorical variable \"Deviation\". It has 2 values: \"Above\", \"Below\". Every time when the price deviates above Moving Average Convergence Divergence - MACD 26 days  it has values \"Above\" otherwise \"Below\" value is assigned."
   ]
  },
  {
   "cell_type": "code",
   "execution_count": 10,
   "metadata": {},
   "outputs": [
    {
     "data": {
      "text/html": [
       "<div>\n",
       "<style>\n",
       "    .dataframe thead tr:only-child th {\n",
       "        text-align: right;\n",
       "    }\n",
       "\n",
       "    .dataframe thead th {\n",
       "        text-align: left;\n",
       "    }\n",
       "\n",
       "    .dataframe tbody tr th {\n",
       "        vertical-align: top;\n",
       "    }\n",
       "</style>\n",
       "<table border=\"1\" class=\"dataframe\">\n",
       "  <thead>\n",
       "    <tr style=\"text-align: right;\">\n",
       "      <th></th>\n",
       "      <th>Volume</th>\n",
       "      <th>MACD_12</th>\n",
       "      <th>MACD_26</th>\n",
       "      <th>Nasdaq</th>\n",
       "      <th>Price</th>\n",
       "      <th>Deviation</th>\n",
       "    </tr>\n",
       "    <tr>\n",
       "      <th>Date</th>\n",
       "      <th></th>\n",
       "      <th></th>\n",
       "      <th></th>\n",
       "      <th></th>\n",
       "      <th></th>\n",
       "      <th></th>\n",
       "    </tr>\n",
       "  </thead>\n",
       "  <tbody>\n",
       "    <tr>\n",
       "      <th>2008-12-12</th>\n",
       "      <td>11432700</td>\n",
       "      <td>145.845428</td>\n",
       "      <td>147.102678</td>\n",
       "      <td>1540.719971</td>\n",
       "      <td>158.038040</td>\n",
       "      <td>Above</td>\n",
       "    </tr>\n",
       "    <tr>\n",
       "      <th>2008-12-15</th>\n",
       "      <td>13462300</td>\n",
       "      <td>146.620370</td>\n",
       "      <td>146.707091</td>\n",
       "      <td>1508.339966</td>\n",
       "      <td>155.490494</td>\n",
       "      <td>Above</td>\n",
       "    </tr>\n",
       "    <tr>\n",
       "      <th>2008-12-16</th>\n",
       "      <td>14105000</td>\n",
       "      <td>147.968384</td>\n",
       "      <td>146.594285</td>\n",
       "      <td>1589.890015</td>\n",
       "      <td>162.802795</td>\n",
       "      <td>Above</td>\n",
       "    </tr>\n",
       "    <tr>\n",
       "      <th>2008-12-17</th>\n",
       "      <td>11567800</td>\n",
       "      <td>150.022521</td>\n",
       "      <td>146.526140</td>\n",
       "      <td>1579.310059</td>\n",
       "      <td>157.777771</td>\n",
       "      <td>Above</td>\n",
       "    </tr>\n",
       "    <tr>\n",
       "      <th>2008-12-18</th>\n",
       "      <td>9517400</td>\n",
       "      <td>151.489404</td>\n",
       "      <td>146.503425</td>\n",
       "      <td>1552.369995</td>\n",
       "      <td>155.295288</td>\n",
       "      <td>Above</td>\n",
       "    </tr>\n",
       "  </tbody>\n",
       "</table>\n",
       "</div>"
      ],
      "text/plain": [
       "              Volume     MACD_12     MACD_26       Nasdaq       Price  \\\n",
       "Date                                                                    \n",
       "2008-12-12  11432700  145.845428  147.102678  1540.719971  158.038040   \n",
       "2008-12-15  13462300  146.620370  146.707091  1508.339966  155.490494   \n",
       "2008-12-16  14105000  147.968384  146.594285  1589.890015  162.802795   \n",
       "2008-12-17  11567800  150.022521  146.526140  1579.310059  157.777771   \n",
       "2008-12-18   9517400  151.489404  146.503425  1552.369995  155.295288   \n",
       "\n",
       "           Deviation  \n",
       "Date                  \n",
       "2008-12-12     Above  \n",
       "2008-12-15     Above  \n",
       "2008-12-16     Above  \n",
       "2008-12-17     Above  \n",
       "2008-12-18     Above  "
      ]
     },
     "execution_count": 10,
     "metadata": {},
     "output_type": "execute_result"
    }
   ],
   "source": [
    "# Create a new categorical variable Volume Level\n",
    "factors['Price'] = stock_data[\"Adj Close\"]\n",
    "factors['Deviation'] = \"\"\n",
    "\n",
    "factors['Deviation'].loc[factors['Price'] > factors['MACD_26']] = 'Above'\n",
    "factors['Deviation'].loc[factors['Price'] <= factors['MACD_26']] = 'Below'\n",
    "\n",
    "factors.head()"
   ]
  },
  {
   "cell_type": "markdown",
   "metadata": {},
   "source": [
    "One-hot encoding can be applied only to integer representation. So we converted labels to integers."
   ]
  },
  {
   "cell_type": "code",
   "execution_count": 11,
   "metadata": {},
   "outputs": [
    {
     "data": {
      "text/html": [
       "<div>\n",
       "<style>\n",
       "    .dataframe thead tr:only-child th {\n",
       "        text-align: right;\n",
       "    }\n",
       "\n",
       "    .dataframe thead th {\n",
       "        text-align: left;\n",
       "    }\n",
       "\n",
       "    .dataframe tbody tr th {\n",
       "        vertical-align: top;\n",
       "    }\n",
       "</style>\n",
       "<table border=\"1\" class=\"dataframe\">\n",
       "  <thead>\n",
       "    <tr style=\"text-align: right;\">\n",
       "      <th></th>\n",
       "      <th>Volume</th>\n",
       "      <th>MACD_12</th>\n",
       "      <th>MACD_26</th>\n",
       "      <th>Nasdaq</th>\n",
       "      <th>Price</th>\n",
       "      <th>Deviation</th>\n",
       "      <th>Deviation Int</th>\n",
       "    </tr>\n",
       "    <tr>\n",
       "      <th>Date</th>\n",
       "      <th></th>\n",
       "      <th></th>\n",
       "      <th></th>\n",
       "      <th></th>\n",
       "      <th></th>\n",
       "      <th></th>\n",
       "      <th></th>\n",
       "    </tr>\n",
       "  </thead>\n",
       "  <tbody>\n",
       "    <tr>\n",
       "      <th>2008-12-12</th>\n",
       "      <td>11432700</td>\n",
       "      <td>145.845428</td>\n",
       "      <td>147.102678</td>\n",
       "      <td>1540.719971</td>\n",
       "      <td>158.038040</td>\n",
       "      <td>Above</td>\n",
       "      <td>0</td>\n",
       "    </tr>\n",
       "    <tr>\n",
       "      <th>2008-12-15</th>\n",
       "      <td>13462300</td>\n",
       "      <td>146.620370</td>\n",
       "      <td>146.707091</td>\n",
       "      <td>1508.339966</td>\n",
       "      <td>155.490494</td>\n",
       "      <td>Above</td>\n",
       "      <td>0</td>\n",
       "    </tr>\n",
       "    <tr>\n",
       "      <th>2008-12-16</th>\n",
       "      <td>14105000</td>\n",
       "      <td>147.968384</td>\n",
       "      <td>146.594285</td>\n",
       "      <td>1589.890015</td>\n",
       "      <td>162.802795</td>\n",
       "      <td>Above</td>\n",
       "      <td>0</td>\n",
       "    </tr>\n",
       "    <tr>\n",
       "      <th>2008-12-17</th>\n",
       "      <td>11567800</td>\n",
       "      <td>150.022521</td>\n",
       "      <td>146.526140</td>\n",
       "      <td>1579.310059</td>\n",
       "      <td>157.777771</td>\n",
       "      <td>Above</td>\n",
       "      <td>0</td>\n",
       "    </tr>\n",
       "    <tr>\n",
       "      <th>2008-12-18</th>\n",
       "      <td>9517400</td>\n",
       "      <td>151.489404</td>\n",
       "      <td>146.503425</td>\n",
       "      <td>1552.369995</td>\n",
       "      <td>155.295288</td>\n",
       "      <td>Above</td>\n",
       "      <td>0</td>\n",
       "    </tr>\n",
       "  </tbody>\n",
       "</table>\n",
       "</div>"
      ],
      "text/plain": [
       "              Volume     MACD_12     MACD_26       Nasdaq       Price  \\\n",
       "Date                                                                    \n",
       "2008-12-12  11432700  145.845428  147.102678  1540.719971  158.038040   \n",
       "2008-12-15  13462300  146.620370  146.707091  1508.339966  155.490494   \n",
       "2008-12-16  14105000  147.968384  146.594285  1589.890015  162.802795   \n",
       "2008-12-17  11567800  150.022521  146.526140  1579.310059  157.777771   \n",
       "2008-12-18   9517400  151.489404  146.503425  1552.369995  155.295288   \n",
       "\n",
       "           Deviation  Deviation Int  \n",
       "Date                                 \n",
       "2008-12-12     Above              0  \n",
       "2008-12-15     Above              0  \n",
       "2008-12-16     Above              0  \n",
       "2008-12-17     Above              0  \n",
       "2008-12-18     Above              0  "
      ]
     },
     "execution_count": 11,
     "metadata": {},
     "output_type": "execute_result"
    }
   ],
   "source": [
    "# Convert labels to integers\n",
    "le = LabelEncoder()\n",
    "deviation_int = le.fit_transform(factors['Deviation'])\n",
    "deviation_int = deviation_int.reshape(-1, 1)\n",
    "factors['Deviation Int'] = deviation_int\n",
    "factors.head()"
   ]
  },
  {
   "cell_type": "markdown",
   "metadata": {},
   "source": [
    "Applied one-hot encoding to our new categorical variable in integer representation we had next result"
   ]
  },
  {
   "cell_type": "code",
   "execution_count": 12,
   "metadata": {},
   "outputs": [
    {
     "data": {
      "text/html": [
       "<div>\n",
       "<style>\n",
       "    .dataframe thead tr:only-child th {\n",
       "        text-align: right;\n",
       "    }\n",
       "\n",
       "    .dataframe thead th {\n",
       "        text-align: left;\n",
       "    }\n",
       "\n",
       "    .dataframe tbody tr th {\n",
       "        vertical-align: top;\n",
       "    }\n",
       "</style>\n",
       "<table border=\"1\" class=\"dataframe\">\n",
       "  <thead>\n",
       "    <tr style=\"text-align: right;\">\n",
       "      <th></th>\n",
       "      <th>Volume</th>\n",
       "      <th>MACD_12</th>\n",
       "      <th>MACD_26</th>\n",
       "      <th>Nasdaq</th>\n",
       "      <th>Price</th>\n",
       "      <th>Deviation</th>\n",
       "      <th>Deviation Int</th>\n",
       "      <th>Above</th>\n",
       "      <th>Below</th>\n",
       "    </tr>\n",
       "    <tr>\n",
       "      <th>Date</th>\n",
       "      <th></th>\n",
       "      <th></th>\n",
       "      <th></th>\n",
       "      <th></th>\n",
       "      <th></th>\n",
       "      <th></th>\n",
       "      <th></th>\n",
       "      <th></th>\n",
       "      <th></th>\n",
       "    </tr>\n",
       "  </thead>\n",
       "  <tbody>\n",
       "    <tr>\n",
       "      <th>2008-12-12</th>\n",
       "      <td>11432700</td>\n",
       "      <td>145.845428</td>\n",
       "      <td>147.102678</td>\n",
       "      <td>1540.719971</td>\n",
       "      <td>158.038040</td>\n",
       "      <td>Above</td>\n",
       "      <td>0</td>\n",
       "      <td>1.0</td>\n",
       "      <td>0.0</td>\n",
       "    </tr>\n",
       "    <tr>\n",
       "      <th>2008-12-15</th>\n",
       "      <td>13462300</td>\n",
       "      <td>146.620370</td>\n",
       "      <td>146.707091</td>\n",
       "      <td>1508.339966</td>\n",
       "      <td>155.490494</td>\n",
       "      <td>Above</td>\n",
       "      <td>0</td>\n",
       "      <td>1.0</td>\n",
       "      <td>0.0</td>\n",
       "    </tr>\n",
       "    <tr>\n",
       "      <th>2008-12-16</th>\n",
       "      <td>14105000</td>\n",
       "      <td>147.968384</td>\n",
       "      <td>146.594285</td>\n",
       "      <td>1589.890015</td>\n",
       "      <td>162.802795</td>\n",
       "      <td>Above</td>\n",
       "      <td>0</td>\n",
       "      <td>1.0</td>\n",
       "      <td>0.0</td>\n",
       "    </tr>\n",
       "    <tr>\n",
       "      <th>2008-12-17</th>\n",
       "      <td>11567800</td>\n",
       "      <td>150.022521</td>\n",
       "      <td>146.526140</td>\n",
       "      <td>1579.310059</td>\n",
       "      <td>157.777771</td>\n",
       "      <td>Above</td>\n",
       "      <td>0</td>\n",
       "      <td>1.0</td>\n",
       "      <td>0.0</td>\n",
       "    </tr>\n",
       "    <tr>\n",
       "      <th>2008-12-18</th>\n",
       "      <td>9517400</td>\n",
       "      <td>151.489404</td>\n",
       "      <td>146.503425</td>\n",
       "      <td>1552.369995</td>\n",
       "      <td>155.295288</td>\n",
       "      <td>Above</td>\n",
       "      <td>0</td>\n",
       "      <td>1.0</td>\n",
       "      <td>0.0</td>\n",
       "    </tr>\n",
       "  </tbody>\n",
       "</table>\n",
       "</div>"
      ],
      "text/plain": [
       "              Volume     MACD_12     MACD_26       Nasdaq       Price  \\\n",
       "Date                                                                    \n",
       "2008-12-12  11432700  145.845428  147.102678  1540.719971  158.038040   \n",
       "2008-12-15  13462300  146.620370  146.707091  1508.339966  155.490494   \n",
       "2008-12-16  14105000  147.968384  146.594285  1589.890015  162.802795   \n",
       "2008-12-17  11567800  150.022521  146.526140  1579.310059  157.777771   \n",
       "2008-12-18   9517400  151.489404  146.503425  1552.369995  155.295288   \n",
       "\n",
       "           Deviation  Deviation Int  Above  Below  \n",
       "Date                                               \n",
       "2008-12-12     Above              0    1.0    0.0  \n",
       "2008-12-15     Above              0    1.0    0.0  \n",
       "2008-12-16     Above              0    1.0    0.0  \n",
       "2008-12-17     Above              0    1.0    0.0  \n",
       "2008-12-18     Above              0    1.0    0.0  "
      ]
     },
     "execution_count": 12,
     "metadata": {},
     "output_type": "execute_result"
    }
   ],
   "source": [
    "ohe = OneHotEncoder(sparse=False)\n",
    "encoded_columns = ohe.fit_transform(deviation_int)\n",
    "factors['Above'] = encoded_columns[:,0]\n",
    "factors['Below'] = encoded_columns[:,1]\n",
    "factors.head()"
   ]
  },
  {
   "cell_type": "markdown",
   "metadata": {},
   "source": [
    "## 3. Cross-validation techniques for forecasting financial time series."
   ]
  },
  {
   "cell_type": "markdown",
   "metadata": {},
   "source": [
    "**Cross-validation** is any of various similar model validation techniques for assessing how the results of a statistical analysis will generalize to an independent data set. It is mainly used in settings where the goal is prediction, and one wants to estimate how accurately a predictive model will perform in practice. In a prediction problem, a model is usually given a dataset of known data on which training is run (training dataset), and a dataset of unknown data (or first seen data) against which the model is tested (called the validation dataset or testing set). The goal of cross-validation is to test the model’s ability to predict new data that was not used in estimating it, in order to flag problems like overfitting or selection bias and to give an insight on how the model will generalize to an independent dataset (i.e., an unknown dataset, for instance from a real problem).\n",
    "\n",
    "In **k-fold cross-validation**, the original sample is randomly partitioned into k equal size subsamples. Of the k subsamples, a single subsample is retained as the test sample while the remaining k-1 samples are used to train the model. The cross-validation process is then repeated k times (the number of folds), with each of the k subsamples used exactly once as the validation data. The k results from the folds can then be averaged (or otherwise combined) to produce a single estimation. [[wikipedia]](https://en.wikipedia.org/wiki/Cross-validation_(statistics))\n",
    "\n",
    "**Advantages**:\n",
    "- Computation time is reduced as we repeated the process only 10 times when the value of k is 10.\n",
    "- Reduced bias\n",
    "- Every data points get to be tested exactly once and is used in training k-1 times\n",
    "- The variance of the resulting estimate is reduced as k increases\n",
    "\n",
    "**Disadvantages**\n",
    "- The training algorithm is computationally intensive as the algorithm has to be rerun from scratch k times.\n",
    "- Problems with time series data\n",
    "\n",
    "Two **problems** arise when applying k-fold cross-validation to time series data:\n",
    "\n",
    "- Time series data is time-ordered. In real world applications, we use past observations to predict future observations. The randomization in the standard cross-validation algorithm does not preserve the time ordering, and we end up making predictions for some samples using a model trained on posterior samples.\n",
    "\n",
    "- The time series data is often strongly correlated along the time axis. The randomization will make it likely that for each sample in the validation set, numerous strongly correlated samples exist in the train set. This defeats the very purpose of having a validation set: the model essentially “knows” about the validation set already, leading to inflated performance metrics on the validation set in case of overfitting.\n",
    "\n",
    "Clearly, the main source of these problems is the randomization. However, if we simply drop the randomization and arrange for the validation set samples to be posterior to all the training set samples, then for a given validation set size, there is only a single possible train/validation split.\n",
    "\n",
    "**Walk-forward cross-validation** solves this problem by restricting the full sample set differently for each split. We first split our dataset into k equal blocks of contiguous samples and decide that the train set will always consist of p contiguous blocks. The splits are then as follows\n",
    "\n",
    "1. Train set: blocks 1 to p, validation set: block p+1\n",
    "2. Train set: blocks 2 to p+1, validation set: block p+2\n",
    "3. …\n",
    "\n",
    "In this way, by “walking forward” in the full sample set, one can construct k-p splits. This is a big improvement over the classical cross-validation algorithms, but some problems remain.\n",
    "\n",
    "- Near the split point, we may have training samples whose evaluation time is posterior to the prediction time of validation samples. Such overlapping samples are unlikely to be independent, leading to information leaking from the train set into the validation set.\n",
    "- It is impossible to make k-p very large, leading to a large variance in the performance statistics.\n",
    "- The most relevant part of the dataset, namely the most recent one, is also the one that is used least. This can be a problem for time series subject to regime changes over long periods of time, as it is often the case in financial time series.\n",
    "\n",
    "**Purging**. The first problem is rather easily solved, through purging. Purging involves dropping from the train set any sample whose evaluation time is posterior to the earliest prediction time in the validation set. This ensures that predictions on the validation set are free of look-ahead bias. [[4]](https://medium.com/@samuel.monnier/cross-validation-tools-for-time-series-ffa1a5a09bf9) \n",
    "\n",
    "**Stratified cross-validation**\n",
    "Stratification is a technique where we rearrange the data in a way that each fold has a good representation of the whole dataset. It forces each fold to have at least m instances of each class. This approach ensures that one class of data is not overrepresented especially when the target variable is unbalanced.\n",
    "\n"
   ]
  },
  {
   "cell_type": "markdown",
   "metadata": {},
   "source": []
  }
 ],
 "metadata": {
  "kernelspec": {
   "display_name": "Python 2",
   "language": "python",
   "name": "python2"
  },
  "language_info": {
   "codemirror_mode": {
    "name": "ipython",
    "version": 2
   },
   "file_extension": ".py",
   "mimetype": "text/x-python",
   "name": "python",
   "nbconvert_exporter": "python",
   "pygments_lexer": "ipython2",
   "version": "2.7.15"
  }
 },
 "nbformat": 4,
 "nbformat_minor": 2
}
